{
 "cells": [
  {
   "cell_type": "markdown",
   "metadata": {},
   "source": [
    "# Image Classification: How to run inference on the endpoint you have created?"
   ]
  },
  {
   "cell_type": "markdown",
   "metadata": {},
   "source": [
    "### Download example images and class_id_to_label_mapping\n",
    "The class_id_to_label_mapping file has been downloaded from [TensorFlow](https://storage.googleapis.com/download.tensorflow.org/data/ImageNetLabels.txt). [Apache 2.0 License](https://www.apache.org/licenses/LICENSE-2.0)"
   ]
  },
  {
   "cell_type": "code",
   "execution_count": 1,
   "metadata": {},
   "outputs": [
    {
     "data": {
      "text/html": [
       "<table><tr><td> <img src=\"cat.jpg\" alt=\"cat\" style=\"height: 250px;\"/> <figcaption>cat.jpg</figcaption></td><td> <img src=\"dog.jpg\" alt=\"dog\" style=\"height: 250px;\"/> <figcaption>dog.jpg</figcaption></td></tr></table>"
      ],
      "text/plain": [
       "<IPython.core.display.HTML object>"
      ]
     },
     "execution_count": 1,
     "metadata": {},
     "output_type": "execute_result"
    }
   ],
   "source": [
    "import boto3\n",
    "from IPython.core.display import HTML\n",
    "\n",
    "region = boto3.Session().region_name\n",
    "s3_bucket = f\"jumpstart-cache-prod-{region}\"\n",
    "key_prefix = \"inference-notebook-assets\"\n",
    "s3 = boto3.client(\"s3\")\n",
    "\n",
    "def download_from_s3(key_filenames):\n",
    "    for key_filename in key_filenames:\n",
    "        s3.download_file(s3_bucket, f\"{key_prefix}/{key_filename}\", key_filename)\n",
    "\n",
    "cat_jpg, dog_jpg, ImageNetLabels = \"cat.jpg\", \"dog.jpg\", \"ImageNetLabels.txt\"\n",
    "download_from_s3(key_filenames=[cat_jpg, dog_jpg, ImageNetLabels])\n",
    "\n",
    "HTML('<table><tr><td> <img src=\"cat.jpg\" alt=\"cat\" style=\"height: 250px;\"/> <figcaption>cat.jpg</figcaption>'\n",
    "     '</td><td> <img src=\"dog.jpg\" alt=\"dog\" style=\"height: 250px;\"/> <figcaption>dog.jpg</figcaption>'\n",
    "     '</td></tr></table>')"
   ]
  },
  {
   "cell_type": "markdown",
   "metadata": {},
   "source": [
    "### Open the downloaded images and load in memory. You can upload any image from your local computer in the directory and open them here. "
   ]
  },
  {
   "cell_type": "code",
   "execution_count": 3,
   "metadata": {},
   "outputs": [],
   "source": [
    "images = {}\n",
    "with open(cat_jpg, 'rb') as file: images[cat_jpg] = file.read()\n",
    "with open(dog_jpg, 'rb') as file: images[dog_jpg] = file.read()\n",
    "with open(ImageNetLabels, 'r') as file: class_id_to_label = file.read().splitlines()[1::] \n",
    "#The label file has 1001 class labels starting with 'background' class \n",
    "#but the model predicts 1000 classes sans the background class. "
   ]
  },
  {
   "cell_type": "markdown",
   "metadata": {},
   "source": [
    "### Query endpoint that you have created with the opened images"
   ]
  },
  {
   "cell_type": "code",
   "execution_count": 4,
   "metadata": {},
   "outputs": [
    {
     "data": {
      "text/html": [
       "<img src=cat.jpg alt=cat.jpg align=\"left\" style=\"width: 250px;\"/><figcaption>Top-5 model predictions are: Egyptian cat, tabby, lynx, tiger cat, Persian cat</figcaption>"
      ],
      "text/plain": [
       "<IPython.core.display.HTML object>"
      ]
     },
     "metadata": {},
     "output_type": "display_data"
    },
    {
     "data": {
      "text/html": [
       "<img src=dog.jpg alt=dog.jpg align=\"left\" style=\"width: 250px;\"/><figcaption>Top-5 model predictions are: Labrador retriever, Chesapeake Bay retriever, bull mastiff, golden retriever, tennis ball</figcaption>"
      ],
      "text/plain": [
       "<IPython.core.display.HTML object>"
      ]
     },
     "metadata": {},
     "output_type": "display_data"
    }
   ],
   "source": [
    "import json\n",
    "\n",
    "def query_endpoint(img):\n",
    "    endpoint_name = 'jumpstart-dft-pt-ic-resnet50'\n",
    "    client = boto3.client('runtime.sagemaker')\n",
    "    response = client.invoke_endpoint(EndpointName=endpoint_name, ContentType='application/x-image', Body=img)\n",
    "    model_predictions = json.loads(response['Body'].read())\n",
    "    return model_predictions\n",
    "\n",
    "for filename, img in images.items():\n",
    "    model_predictions = query_endpoint(img)  \n",
    "    top5_prediction_ids = sorted(range(len(model_predictions)), key=lambda index: model_predictions[index], reverse=True)[:5]\n",
    "    top5_class_labels = \", \".join([class_id_to_label[id] for id in top5_prediction_ids])\n",
    "    display(HTML(f'<img src={filename} alt={filename} align=\"left\" style=\"width: 250px;\"/>' \n",
    "                 f'<figcaption>Top-5 model predictions are: {top5_class_labels}</figcaption>'))"
   ]
  },
  {
   "cell_type": "code",
   "execution_count": null,
   "metadata": {},
   "outputs": [],
   "source": []
  }
 ],
 "metadata": {
  "kernelspec": {
   "display_name": "Python 3 (Data Science)",
   "language": "python",
   "name": "python3__SAGEMAKER_INTERNAL__arn:aws:sagemaker:us-east-2:429704687514:image/datascience-1.0"
  },
  "language_info": {
   "codemirror_mode": {
    "name": "ipython",
    "version": 3
   },
   "file_extension": ".py",
   "mimetype": "text/x-python",
   "name": "python",
   "nbconvert_exporter": "python",
   "pygments_lexer": "ipython3",
   "version": "3.7.10"
  },
  "pycharm": {
   "stem_cell": {
    "cell_type": "raw",
    "metadata": {
     "collapsed": false
    },
    "source": []
   }
  }
 },
 "nbformat": 4,
 "nbformat_minor": 4
}
